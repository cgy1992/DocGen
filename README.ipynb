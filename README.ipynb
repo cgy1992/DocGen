{
 "cells": [
  {
   "cell_type": "markdown",
   "metadata": {},
   "source": [
    "# DocGen - Documentation\n",
    "\n",
    "DocGen is a custom python scripts to produce HTML documentation.\n",
    "\n",
    "This documentation is based on tags you have to insert in your code.\n",
    "\n",
    "It is recommended to use Sublime Text 2 with custom key map (Preferences-> Key Binding- User). I presonnaly use the ones below to comment my code more easily :\n",
    "```JSON\n",
    "    [{\"keys\": [\"ctrl+shift+c\"], \"command\": \"insert_snippet\", \n",
    "    \"args\": {\"contents\":\"#@sep \\n#@description \\n#@last_check \\n#@class_name \\n#@input_type \\n#@output_type\"}},\n",
    "    {\"keys\": [\"ctrl+shift+n\"],\"command\": \"insert_snippet\", \n",
    "    \"args\": {\"contents\":\"#@end_page \\n#@new_page\"}}]\n",
    "```     \n",
    "Thus the shortcut \"ctrl+shift+c\" allows me to insert the tags bloc to comment a new function\n",
    "\n",
    "``` python\n",
    "#@sep  Subsection or space if void\n",
    "#@description  description of the function\n",
    "#@last_check  last_check - to fill manually\n",
    "#@class_name  If the function is a method\n",
    "#@input_type  \n",
    "#@output_type\n",
    "def your_func(var1,var2):\n",
    "\treturn result\n",
    "``` \n",
    "\n",
    " **This full bloc needs to be used each time you want to document a function, otherwise the function will be ignored. You have to put the bloc just above the function as shown in the example above**\n",
    "\n",
    "\n",
    "The package generates documentation according to thoses tags. You can also generate different pages of documentation. You can use the markers '@new_page' and '@end_page' to delimit your pages.\n",
    "\n",
    "\n",
    "Here are the tags you can use :\n",
    "\n",
    "**Bloc to describe a new function**\n",
    "``` python\n",
    "#@sep  Subsection or space if void\n",
    "#@description  description of the function\n",
    "#@last_check  last_check - to fill manually\n",
    "#@class_name  If the function is a method\n",
    "#@input_type  \n",
    "#@output_type  \n",
    "``` \n",
    "\n",
    "**Add a subsection**\n",
    "``` python\n",
    "#@sep  Subsection \n",
    "``` \n",
    "\n",
    "**Start/end a page of documentation**\n",
    "``` python\n",
    "#@new_page\n",
    "#@end_page\n",
    "``` \n",
    "\n",
    "**End of the document**\n",
    "``` python\n",
    "#@enddoc  \n",
    "``` \n",
    "If this tags is not provided then the documation will stop after a default limit of 1000 lines after the last tag detected"
   ]
  },
  {
   "cell_type": "markdown",
   "metadata": {},
   "source": [
    "## Example"
   ]
  },
  {
   "cell_type": "code",
   "execution_count": 1,
   "metadata": {
    "collapsed": true
   },
   "outputs": [],
   "source": [
    "import DocGen.gen_doc as gen\n",
    "from DocGen.doc import *"
   ]
  },
  {
   "cell_type": "code",
   "execution_count": 2,
   "metadata": {
    "collapsed": true,
    "nbpresent": {
     "id": "19fab937-b54e-44cf-8ff9-2c225f6338aa"
    }
   },
   "outputs": [],
   "source": [
    "input_path='./Example/sample.py'\n",
    "output_folder_path='./Example/Output'"
   ]
  },
  {
   "cell_type": "code",
   "execution_count": 3,
   "metadata": {
    "collapsed": false
   },
   "outputs": [
    {
     "name": "stdout",
     "output_type": "stream",
     "text": [
      "Documenation generated and saved in ./Example/Output\n"
     ]
    }
   ],
   "source": [
    "gen.gen_page(input_path,output_folder_path)"
   ]
  }
 ],
 "metadata": {
  "anaconda-cloud": {},
  "kernelspec": {
   "display_name": "Python [Root]",
   "language": "python",
   "name": "Python [Root]"
  },
  "language_info": {
   "codemirror_mode": {
    "name": "ipython",
    "version": 3
   },
   "file_extension": ".py",
   "mimetype": "text/x-python",
   "name": "python",
   "nbconvert_exporter": "python",
   "pygments_lexer": "ipython3",
   "version": "3.5.1"
  },
  "nbpresent": {
   "slides": {},
   "themes": {}
  }
 },
 "nbformat": 4,
 "nbformat_minor": 0
}
